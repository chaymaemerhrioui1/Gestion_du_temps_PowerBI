{
 "cells": [
  {
   "cell_type": "code",
   "execution_count": 1,
   "id": "f4123780-aaa0-4135-9025-b83ceb69d3a6",
   "metadata": {},
   "outputs": [],
   "source": [
    "import pandas as pd\n",
    "from sklearn.linear_model import LinearRegression\n",
    "from sklearn.model_selection import train_test_split"
   ]
  },
  {
   "cell_type": "code",
   "execution_count": 4,
   "id": "2b92cf9e-f03c-4e65-a8bd-d9a7e2cb55a0",
   "metadata": {},
   "outputs": [],
   "source": [
    "df = pd.read_excel(\"C:/Users/chaym/Documents/form_table.ods\")"
   ]
  },
  {
   "cell_type": "code",
   "execution_count": 7,
   "id": "e4232159-5029-468e-be1e-7cd1eed2531a",
   "metadata": {},
   "outputs": [
    {
     "name": "stdout",
     "output_type": "stream",
     "text": [
      "ID                                      0\n",
      "Date                                    0\n",
      "Gmail                                   0\n",
      "Sexe                                    0\n",
      "Heures consacrées aux études            0\n",
      "Heures consacrées aux loisirs           0\n",
      "Heures consacrées à la vie sociale      0\n",
      "Principal défi de gestion du temps      0\n",
      "Emploi à côté des études (Oui/Non)      0\n",
      "Méthode d'organisation du temps         0\n",
      "Planification quotidienne (Oui/Non)     0\n",
      "Satisfaction équilibre                  0\n",
      "Facteur clé pour l'équilibre            0\n",
      "Suggestions d'améliorations             0\n",
      "Outils numériques utilisés (Oui/Non)    0\n",
      "Outils numériques utilisés              0\n",
      "dtype: int64\n"
     ]
    }
   ],
   "source": [
    "print(df.isnull().sum())  # Affiche le nombre de valeurs manquantes par colonne\n"
   ]
  },
  {
   "cell_type": "code",
   "execution_count": 6,
   "id": "270c5e51-bd62-4947-84ff-db73c039a40c",
   "metadata": {},
   "outputs": [],
   "source": [
    "df[\"Suggestions d'améliorations\"].fillna(\"Non spécifié\", inplace=True)\n",
    "df[\"Outils numériques utilisés\"].fillna(\"Aucun\", inplace=True)"
   ]
  },
  {
   "cell_type": "code",
   "execution_count": 8,
   "id": "d9efb364-84c1-4823-93af-c21c9633acd9",
   "metadata": {},
   "outputs": [],
   "source": [
    "# Fonction pour convertir les intervalles (ex: '3-4' -> 3.5)\n",
    "def convert_to_numeric(value):\n",
    "    try:\n",
    "        # Si la valeur est un intervalle (ex: '3-4'), la diviser et prendre la moyenne\n",
    "        if isinstance(value, str) and '-' in value:\n",
    "            start, end = value.split('-')\n",
    "            return (float(start) + float(end)) / 2  # Moyenne des deux valeurs\n",
    "        else:\n",
    "            return float(value)  # Si la valeur est déjà un nombre\n",
    "    except Exception as e:\n",
    "        return None  # Si erreur, retourner None"
   ]
  },
  {
   "cell_type": "code",
   "execution_count": 9,
   "id": "8dbac0b8-f0a2-433c-ae9d-4c31e248d19a",
   "metadata": {},
   "outputs": [],
   "source": [
    "df['Heures consacrées aux études'] = df['Heures consacrées aux études'].apply(convert_to_numeric)\n",
    "df['Heures consacrées aux loisirs'] = df['Heures consacrées aux loisirs'].apply(convert_to_numeric)\n",
    "df['Heures consacrées à la vie sociale'] = df['Heures consacrées à la vie sociale'].apply(convert_to_numeric)"
   ]
  },
  {
   "cell_type": "code",
   "execution_count": 18,
   "id": "e98894b8-24f1-4406-b739-d996bc1db0b5",
   "metadata": {},
   "outputs": [
    {
     "name": "stdout",
     "output_type": "stream",
     "text": [
      "0     6.5\n",
      "1     3.5\n",
      "2     0.0\n",
      "3     6.5\n",
      "4     3.5\n",
      "5     3.5\n",
      "6     3.5\n",
      "7     0.0\n",
      "8     0.0\n",
      "9     0.0\n",
      "10    3.5\n",
      "11    6.5\n",
      "12    0.0\n",
      "13    3.5\n",
      "14    3.5\n",
      "15    6.5\n",
      "16    0.0\n",
      "17    0.0\n",
      "18    3.5\n",
      "19    3.5\n",
      "20    0.0\n",
      "21    6.5\n",
      "22    3.5\n",
      "23    6.5\n",
      "24    6.5\n",
      "25    6.5\n",
      "26    6.5\n",
      "27    3.5\n",
      "28    3.5\n",
      "29    3.5\n",
      "30    3.5\n",
      "31    3.5\n",
      "32    6.5\n",
      "33    3.5\n",
      "34    3.5\n",
      "35    3.5\n",
      "36    3.5\n",
      "37    3.5\n",
      "38    3.5\n",
      "39    0.0\n",
      "40    3.5\n",
      "41    3.5\n",
      "42    6.5\n",
      "43    0.0\n",
      "44    3.5\n",
      "45    0.0\n",
      "46    0.0\n",
      "47    0.0\n",
      "48    3.5\n",
      "Name: Heures consacrées à la vie sociale, dtype: float64\n",
      "0     3.5\n",
      "1     3.5\n",
      "2     3.5\n",
      "3     3.5\n",
      "4     3.5\n",
      "5     6.5\n",
      "6     3.5\n",
      "7     3.5\n",
      "8     6.5\n",
      "9     0.0\n",
      "10    6.5\n",
      "11    3.5\n",
      "12    0.0\n",
      "13    0.0\n",
      "14    3.5\n",
      "15    0.0\n",
      "16    3.5\n",
      "17    3.5\n",
      "18    6.5\n",
      "19    0.0\n",
      "20    6.5\n",
      "21    0.0\n",
      "22    3.5\n",
      "23    6.5\n",
      "24    3.5\n",
      "25    6.5\n",
      "26    3.5\n",
      "27    3.5\n",
      "28    3.5\n",
      "29    3.5\n",
      "30    3.5\n",
      "31    3.5\n",
      "32    0.0\n",
      "33    0.0\n",
      "34    3.5\n",
      "35    3.5\n",
      "36    0.0\n",
      "37    0.0\n",
      "38    3.5\n",
      "39    3.5\n",
      "40    6.5\n",
      "41    3.5\n",
      "42    0.0\n",
      "43    0.0\n",
      "44    3.5\n",
      "45    3.5\n",
      "46    6.5\n",
      "47    3.5\n",
      "48    3.5\n",
      "Name: Heures consacrées aux loisirs, dtype: float64\n",
      "0      6.5\n",
      "1      0.0\n",
      "2      3.5\n",
      "3      6.5\n",
      "4     10.5\n",
      "5      0.0\n",
      "6      3.5\n",
      "7      3.5\n",
      "8      6.5\n",
      "9     10.5\n",
      "10     6.5\n",
      "11     6.5\n",
      "12    10.5\n",
      "13     3.5\n",
      "14    10.5\n",
      "15     0.0\n",
      "16     6.5\n",
      "17    10.5\n",
      "18    10.5\n",
      "19     0.0\n",
      "20     0.0\n",
      "21    10.5\n",
      "22     0.0\n",
      "23     6.5\n",
      "24    10.5\n",
      "25     0.0\n",
      "26    10.5\n",
      "27     6.5\n",
      "28    10.5\n",
      "29     6.5\n",
      "30    10.5\n",
      "31    10.5\n",
      "32     6.5\n",
      "33     0.0\n",
      "34     0.0\n",
      "35    10.5\n",
      "36     0.0\n",
      "37     6.5\n",
      "38     0.0\n",
      "39     0.0\n",
      "40    10.5\n",
      "41     6.5\n",
      "42     0.0\n",
      "43     0.0\n",
      "44     0.0\n",
      "45     0.0\n",
      "46     6.5\n",
      "47     3.5\n",
      "48     0.0\n",
      "Name: Heures consacrées aux études, dtype: float64\n"
     ]
    }
   ],
   "source": [
    "print(df['Heures consacrées à la vie sociale'])\n",
    "print(df['Heures consacrées aux loisirs'])\n",
    "print(df['Heures consacrées aux études'])\n"
   ]
  },
  {
   "cell_type": "code",
   "execution_count": 15,
   "id": "07c1a2de-843c-44ef-839d-a52f30b83593",
   "metadata": {},
   "outputs": [],
   "source": [
    "df[\"Heures consacrées à la vie sociale\"].fillna(0, inplace=True)"
   ]
  },
  {
   "cell_type": "code",
   "execution_count": 17,
   "id": "da928a97-8841-41b2-bcde-f1e246de7a50",
   "metadata": {},
   "outputs": [],
   "source": [
    "df[\"Heures consacrées aux loisirs\"].fillna(0, inplace=True)\n",
    "df[\"Heures consacrées aux études\"].fillna(0, inplace=True)\n"
   ]
  },
  {
   "cell_type": "code",
   "execution_count": 19,
   "id": "166e2ccd-c323-49aa-bde7-7b20d189d57a",
   "metadata": {},
   "outputs": [],
   "source": [
    "# Sélectionner les colonnes d'entrée (X) et la variable cible (y)\n",
    "X = df[['Heures consacrées aux études', 'Heures consacrées aux loisirs', 'Heures consacrées à la vie sociale']]\n",
    "y = df['Satisfaction équilibre']"
   ]
  },
  {
   "cell_type": "code",
   "execution_count": 20,
   "id": "c69837f6-2fa0-4386-9387-833f73abe199",
   "metadata": {},
   "outputs": [],
   "source": [
    "# Séparer les données en jeu d'entraînement et de test\n",
    "X_train, X_test, y_train, y_test = train_test_split(X, y, test_size=0.2, random_state=42)"
   ]
  },
  {
   "cell_type": "code",
   "execution_count": 21,
   "id": "c50cbfdd-7951-49e5-8fe6-497dc6bdbf66",
   "metadata": {},
   "outputs": [
    {
     "data": {
      "text/html": [
       "<style>#sk-container-id-1 {color: black;}#sk-container-id-1 pre{padding: 0;}#sk-container-id-1 div.sk-toggleable {background-color: white;}#sk-container-id-1 label.sk-toggleable__label {cursor: pointer;display: block;width: 100%;margin-bottom: 0;padding: 0.3em;box-sizing: border-box;text-align: center;}#sk-container-id-1 label.sk-toggleable__label-arrow:before {content: \"▸\";float: left;margin-right: 0.25em;color: #696969;}#sk-container-id-1 label.sk-toggleable__label-arrow:hover:before {color: black;}#sk-container-id-1 div.sk-estimator:hover label.sk-toggleable__label-arrow:before {color: black;}#sk-container-id-1 div.sk-toggleable__content {max-height: 0;max-width: 0;overflow: hidden;text-align: left;background-color: #f0f8ff;}#sk-container-id-1 div.sk-toggleable__content pre {margin: 0.2em;color: black;border-radius: 0.25em;background-color: #f0f8ff;}#sk-container-id-1 input.sk-toggleable__control:checked~div.sk-toggleable__content {max-height: 200px;max-width: 100%;overflow: auto;}#sk-container-id-1 input.sk-toggleable__control:checked~label.sk-toggleable__label-arrow:before {content: \"▾\";}#sk-container-id-1 div.sk-estimator input.sk-toggleable__control:checked~label.sk-toggleable__label {background-color: #d4ebff;}#sk-container-id-1 div.sk-label input.sk-toggleable__control:checked~label.sk-toggleable__label {background-color: #d4ebff;}#sk-container-id-1 input.sk-hidden--visually {border: 0;clip: rect(1px 1px 1px 1px);clip: rect(1px, 1px, 1px, 1px);height: 1px;margin: -1px;overflow: hidden;padding: 0;position: absolute;width: 1px;}#sk-container-id-1 div.sk-estimator {font-family: monospace;background-color: #f0f8ff;border: 1px dotted black;border-radius: 0.25em;box-sizing: border-box;margin-bottom: 0.5em;}#sk-container-id-1 div.sk-estimator:hover {background-color: #d4ebff;}#sk-container-id-1 div.sk-parallel-item::after {content: \"\";width: 100%;border-bottom: 1px solid gray;flex-grow: 1;}#sk-container-id-1 div.sk-label:hover label.sk-toggleable__label {background-color: #d4ebff;}#sk-container-id-1 div.sk-serial::before {content: \"\";position: absolute;border-left: 1px solid gray;box-sizing: border-box;top: 0;bottom: 0;left: 50%;z-index: 0;}#sk-container-id-1 div.sk-serial {display: flex;flex-direction: column;align-items: center;background-color: white;padding-right: 0.2em;padding-left: 0.2em;position: relative;}#sk-container-id-1 div.sk-item {position: relative;z-index: 1;}#sk-container-id-1 div.sk-parallel {display: flex;align-items: stretch;justify-content: center;background-color: white;position: relative;}#sk-container-id-1 div.sk-item::before, #sk-container-id-1 div.sk-parallel-item::before {content: \"\";position: absolute;border-left: 1px solid gray;box-sizing: border-box;top: 0;bottom: 0;left: 50%;z-index: -1;}#sk-container-id-1 div.sk-parallel-item {display: flex;flex-direction: column;z-index: 1;position: relative;background-color: white;}#sk-container-id-1 div.sk-parallel-item:first-child::after {align-self: flex-end;width: 50%;}#sk-container-id-1 div.sk-parallel-item:last-child::after {align-self: flex-start;width: 50%;}#sk-container-id-1 div.sk-parallel-item:only-child::after {width: 0;}#sk-container-id-1 div.sk-dashed-wrapped {border: 1px dashed gray;margin: 0 0.4em 0.5em 0.4em;box-sizing: border-box;padding-bottom: 0.4em;background-color: white;}#sk-container-id-1 div.sk-label label {font-family: monospace;font-weight: bold;display: inline-block;line-height: 1.2em;}#sk-container-id-1 div.sk-label-container {text-align: center;}#sk-container-id-1 div.sk-container {/* jupyter's `normalize.less` sets `[hidden] { display: none; }` but bootstrap.min.css set `[hidden] { display: none !important; }` so we also need the `!important` here to be able to override the default hidden behavior on the sphinx rendered scikit-learn.org. See: https://github.com/scikit-learn/scikit-learn/issues/21755 */display: inline-block !important;position: relative;}#sk-container-id-1 div.sk-text-repr-fallback {display: none;}</style><div id=\"sk-container-id-1\" class=\"sk-top-container\"><div class=\"sk-text-repr-fallback\"><pre>LinearRegression()</pre><b>In a Jupyter environment, please rerun this cell to show the HTML representation or trust the notebook. <br />On GitHub, the HTML representation is unable to render, please try loading this page with nbviewer.org.</b></div><div class=\"sk-container\" hidden><div class=\"sk-item\"><div class=\"sk-estimator sk-toggleable\"><input class=\"sk-toggleable__control sk-hidden--visually\" id=\"sk-estimator-id-1\" type=\"checkbox\" checked><label for=\"sk-estimator-id-1\" class=\"sk-toggleable__label sk-toggleable__label-arrow\">LinearRegression</label><div class=\"sk-toggleable__content\"><pre>LinearRegression()</pre></div></div></div></div></div>"
      ],
      "text/plain": [
       "LinearRegression()"
      ]
     },
     "execution_count": 21,
     "metadata": {},
     "output_type": "execute_result"
    }
   ],
   "source": [
    "# Entraîner le modèle\n",
    "model = LinearRegression()\n",
    "model.fit(X_train, y_train)"
   ]
  },
  {
   "cell_type": "code",
   "execution_count": 22,
   "id": "8332dc48-c3c1-4c32-932f-33bf617f5ab7",
   "metadata": {},
   "outputs": [],
   "source": [
    "\n",
    "\n",
    "# Faire des prédictions sur les données\n",
    "df['Prédictions Satisfaction'] = model.predict(X)\n",
    "\n",
    "# Renvoi du DataFrame avec les prédictions à Power BI\n",
    "result = df\n"
   ]
  },
  {
   "cell_type": "code",
   "execution_count": 23,
   "id": "7518c313-3480-4ab6-b4b6-76068659f9ca",
   "metadata": {},
   "outputs": [],
   "source": [
    "df.to_excel(\"cleanformdata.xlsx\", index=False)"
   ]
  },
  {
   "cell_type": "code",
   "execution_count": 25,
   "id": "4c1e06ba-c5a7-4174-963d-c3582ce5bdef",
   "metadata": {},
   "outputs": [],
   "source": [
    "df.to_csv(\"cleanformdata1\", index=False)"
   ]
  },
  {
   "cell_type": "code",
   "execution_count": null,
   "id": "c4426cc2-0c2b-4472-8a72-5b3c6f982596",
   "metadata": {},
   "outputs": [],
   "source": []
  }
 ],
 "metadata": {
  "kernelspec": {
   "display_name": "Python 3 (ipykernel)",
   "language": "python",
   "name": "python3"
  },
  "language_info": {
   "codemirror_mode": {
    "name": "ipython",
    "version": 3
   },
   "file_extension": ".py",
   "mimetype": "text/x-python",
   "name": "python",
   "nbconvert_exporter": "python",
   "pygments_lexer": "ipython3",
   "version": "3.11.3"
  }
 },
 "nbformat": 4,
 "nbformat_minor": 5
}
